{
  "nbformat": 4,
  "nbformat_minor": 0,
  "metadata": {
    "colab": {
      "name": "2_first_neural_network.ipynb",
      "version": "0.3.2",
      "provenance": [],
      "collapsed_sections": [],
      "include_colab_link": true
    },
    "kernelspec": {
      "name": "python3",
      "display_name": "Python 3"
    },
    "accelerator": "GPU"
  },
  "cells": [
    {
      "cell_type": "markdown",
      "metadata": {
        "id": "view-in-github",
        "colab_type": "text"
      },
      "source": [
        "[View in Colaboratory](https://colab.research.google.com/github/taowen/understand-neural-network/blob/master/2_first_neural_network.ipynb)"
      ]
    },
    {
      "metadata": {
        "id": "We2y2TP6A2pv",
        "colab_type": "code",
        "colab": {
          "base_uri": "https://localhost:8080/",
          "height": 101
        },
        "outputId": "9ad0454d-20a2-4bda-aa51-34520d1e10e9"
      },
      "cell_type": "code",
      "source": [
        "!pip install torch torchvision"
      ],
      "execution_count": 1,
      "outputs": [
        {
          "output_type": "stream",
          "text": [
            "Requirement already satisfied: torch in /usr/local/lib/python3.6/dist-packages (0.4.0)\r\n",
            "Requirement already satisfied: torchvision in /usr/local/lib/python3.6/dist-packages (0.2.1)\r\n",
            "Requirement already satisfied: pillow>=4.1.1 in /usr/local/lib/python3.6/dist-packages (from torchvision) (5.2.0)\r\n",
            "Requirement already satisfied: six in /usr/local/lib/python3.6/dist-packages (from torchvision) (1.11.0)\r\n",
            "Requirement already satisfied: numpy in /usr/local/lib/python3.6/dist-packages (from torchvision) (1.14.5)\r\n"
          ],
          "name": "stdout"
        }
      ]
    },
    {
      "metadata": {
        "id": "JDeVwPrRBY8G",
        "colab_type": "text"
      },
      "cell_type": "markdown",
      "source": [
        "neural network 和上一节里说的 y = x * x 本质上一样，都是对 tensor 进行的数学运算。\n",
        "\n",
        "但是neural network能够做到三点之前的手写规则无法实现的效果：\n",
        "\n",
        "1. 对任务相关的特征敏感（比如目标是识别狗，可以对狗的图像很敏感）\n",
        "2. 对任务无关的特征不敏感 （今天拍一张狗，明天再拍一张，都可以识别为狗）\n",
        "3. 多任务（可以用一个网络实现多种任务）\n",
        "\n",
        "更简单的说是对真实世界的一些表面上有差异，本质上很类似的物体可以进行识别。这些物体包括我们常见的手写数字，语音，以及人类自然语言等。\n",
        "\n",
        "我们先来熟悉一下 pytorch 的 api。利用 pytorch 如何写一个最简单的识别数字的例子"
      ]
    },
    {
      "metadata": {
        "id": "_Fc7uascE2uN",
        "colab_type": "code",
        "colab": {}
      },
      "cell_type": "code",
      "source": [
        "import torch.nn as nn\n",
        "import torch.nn.functional as F\n",
        "import torch\n",
        "\n",
        "class DigitClassifier(nn.Module):\n",
        "    def __init__(self):\n",
        "        super(DigitClassifier, self).__init__()\n",
        "        self.conv1 = nn.Conv2d(1, 10, kernel_size=5)\n",
        "        self.conv2 = nn.Conv2d(10, 20, kernel_size=5)\n",
        "        self.conv2_drop = nn.Dropout2d()\n",
        "        self.fc1 = nn.Linear(320, 50)\n",
        "        self.fc2 = nn.Linear(50, 10)\n",
        "\n",
        "    def forward(self, x):\n",
        "        x = F.relu(F.max_pool2d(self.conv1(x), 2))\n",
        "        x = F.relu(F.max_pool2d(self.conv2_drop(self.conv2(x)), 2))\n",
        "        x = x.view(-1, 320)\n",
        "        x = F.relu(self.fc1(x))\n",
        "        x = F.dropout(x, training=self.training)\n",
        "        x = self.fc2(x)\n",
        "        return F.log_softmax(x, dim=1)"
      ],
      "execution_count": 0,
      "outputs": []
    },
    {
      "metadata": {
        "id": "S3cX-r9xOly7",
        "colab_type": "text"
      },
      "cell_type": "markdown",
      "source": [
        "这个 DigitClassifier 类有什么用？其实它就是一个函数，输入是一个 matrix （2d的tensor）输出是 0 到 9 到数字"
      ]
    },
    {
      "metadata": {
        "id": "uje4zMivO4Br",
        "colab_type": "code",
        "colab": {
          "base_uri": "https://localhost:8080/",
          "height": 414
        },
        "outputId": "ed308762-846b-4027-bfc7-81f0164bc253"
      },
      "cell_type": "code",
      "source": [
        "import matplotlib.pyplot as plt\n",
        "\n",
        "x = torch.rand(\n",
        "    1, # index in batch\n",
        "    1, # channel\n",
        "    28, # height\n",
        "    28, # width\n",
        ")\n",
        "print('given this random image')\n",
        "plt.imshow(x[0][0], 'gray')\n",
        "classifier = DigitClassifier()\n",
        "output = classifier(x)\n",
        "print('output: ', output)\n",
        "print('the classified digit: ', output.max(1, keepdim=True)[1])"
      ],
      "execution_count": 3,
      "outputs": [
        {
          "output_type": "stream",
          "text": [
            "given this random image\n",
            "output:  tensor([[-2.2696, -2.3770, -2.3003, -2.4872, -2.4108, -2.3509, -2.0893,\n",
            "         -2.2598, -2.1801, -2.3619]])\n",
            "the classified digit:  tensor([[ 6]])\n"
          ],
          "name": "stdout"
        },
        {
          "output_type": "display_data",
          "data": {
            "image/png": "[encoded data removed]",
            "text/plain": [
              "<matplotlib.figure.Figure at 0x7f22ea045f98>"
            ]
          },
          "metadata": {
            "tags": []
          }
        }
      ]
    },
    {
      "metadata": {
        "id": "dsKB6v3bO00D",
        "colab_type": "text"
      },
      "cell_type": "markdown",
      "source": [
        "可以看到 classifier 这个神经网络的实例就是一个函数。它的做用就是把 28 * 28 的灰度图像映射为 0 到 9 的数字\n",
        "\n",
        "本质上就是一个函数，一个复杂一些的函数\n",
        "\n",
        "利用第一节里的讲过的梯度下降算法。对于 y = f(x) 我们在给定 x 和 y 的情况下，求解出 f 来。\n",
        "\n",
        "所以我们先要搞一些数据来"
      ]
    },
    {
      "metadata": {
        "id": "ono3pYbgVvgh",
        "colab_type": "code",
        "colab": {
          "base_uri": "https://localhost:8080/",
          "height": 381
        },
        "outputId": "ce249594-9086-40da-9ccf-9395a0034641"
      },
      "cell_type": "code",
      "source": [
        "from torchvision import datasets, transforms\n",
        "\n",
        "transform = transforms.Compose([\n",
        "   transforms.ToTensor(),\n",
        "   transforms.Normalize((0.1307,), (0.3081,))\n",
        "])\n",
        "\n",
        "train_loader = torch.utils.data.DataLoader(\n",
        "  datasets.MNIST('../data', train=True, download=True, transform=transform),\n",
        "  batch_size=64, shuffle=True, num_workers=1, pin_memory=True)\n",
        "\n",
        "test_loader = torch.utils.data.DataLoader(\n",
        "  datasets.MNIST('../data', train=False, transform=transform),\n",
        "  batch_size=1000, shuffle=True, num_workers=1, pin_memory=True)\n",
        "\n",
        "# 从训练集里读取一个随机的图片\n",
        "dataiter = iter(train_loader)\n",
        "images, labels = dataiter.next()\n",
        "\n",
        "n = 3 # the 3rd image in the batch\n",
        "plt.imshow(images[n][0], 'gray')\n",
        "print('actual: ', labels[n])\n",
        "classifier.eval() # 设置为 eval 模式\n",
        "classified = classifier(images).max(1, keepdim=True)[1]\n",
        "print('classified as: ', classified[n])"
      ],
      "execution_count": 4,
      "outputs": [
        {
          "output_type": "stream",
          "text": [
            "actual:  tensor(5)\n",
            "classified as:  tensor([ 7])\n"
          ],
          "name": "stdout"
        },
        {
          "output_type": "display_data",
          "data": {
            "image/png": "[encoded data removed]",
            "text/plain": [
              "<matplotlib.figure.Figure at 0x7f22a2d2dc88>"
            ]
          },
          "metadata": {
            "tags": []
          }
        }
      ]
    },
    {
      "metadata": {
        "id": "psFLY84SYWrR",
        "colab_type": "text"
      },
      "cell_type": "markdown",
      "source": [
        "我们可以看到，没有经过训练的神经网络还无法对数字进行分类。分类的结果和实际的数字相差很大。\n",
        "\n",
        "接下来就是要进行训练。首先要定义loss，loss定义对了才能往目标前进"
      ]
    },
    {
      "metadata": {
        "id": "xKhZsI13mdwW",
        "colab_type": "code",
        "colab": {
          "base_uri": "https://localhost:8080/",
          "height": 34
        },
        "outputId": "bb799e0c-c2fc-43f2-8c1e-d0ba0bf9aa6a"
      },
      "cell_type": "code",
      "source": [
        "classifier.train() # 设置为训练模式\n",
        "output = classifier(images)\n",
        "loss = F.nll_loss(output, labels)\n",
        "print(loss)\n",
        "\n",
        "classifier.zero_grad()\n",
        "loss.backward()\n",
        "\n",
        "learning_rate = 1e-4\n",
        "with torch.no_grad():\n",
        "  for param in classifier.parameters():\n",
        "    param -= learning_rate * param.grad"
      ],
      "execution_count": 5,
      "outputs": [
        {
          "output_type": "stream",
          "text": [
            "tensor(2.3178)\n"
          ],
          "name": "stdout"
        }
      ]
    },
    {
      "metadata": {
        "id": "bGtBqIHToNQd",
        "colab_type": "text"
      },
      "cell_type": "markdown",
      "source": [
        "这个更新的过程可以使用现成的optimizer达成同样的目的\n",
        "\n",
        "多种多样的 optimizer 可以提供比 param -= learning_rate * param.grad 更丰富的选择（不同的更新步长）"
      ]
    },
    {
      "metadata": {
        "id": "UhnSN5oIodl9",
        "colab_type": "code",
        "colab": {
          "base_uri": "https://localhost:8080/",
          "height": 34
        },
        "outputId": "4caf4e4b-e3b6-42ae-bfc7-a3caf7af2a2c"
      },
      "cell_type": "code",
      "source": [
        "import torch.optim as optim\n",
        "\n",
        "classifier.train() # 设置为训练模式\n",
        "optimizer = optim.SGD(classifier.parameters(), lr=0.01, momentum=0.5) \n",
        "# 这个optimizer和classifier.parameters()形成了绑定关系，调用optimizer就会更新对应的param\n",
        "\n",
        "output = classifier(images)\n",
        "loss = F.nll_loss(output, labels)\n",
        "print(loss)\n",
        "\n",
        "optimizer.zero_grad() # was classifier.zero_grad()\n",
        "loss.backward()\n",
        "\n",
        "learning_rate = 1e-4\n",
        "optimizer.step() # was with torch.no_grad() ..."
      ],
      "execution_count": 6,
      "outputs": [
        {
          "output_type": "stream",
          "text": [
            "tensor(2.3316)\n"
          ],
          "name": "stdout"
        }
      ]
    },
    {
      "metadata": {
        "id": "w2s741bsp8Cd",
        "colab_type": "text"
      },
      "cell_type": "markdown",
      "source": [
        "重复这个过程就是训练了"
      ]
    },
    {
      "metadata": {
        "id": "P8oBU_bVp-Uu",
        "colab_type": "code",
        "colab": {
          "base_uri": "https://localhost:8080/",
          "height": 218
        },
        "outputId": "91f9dbfb-6fe0-4723-c2e1-ba7d144ac9ba"
      },
      "cell_type": "code",
      "source": [
        "import torch.optim as optim\n",
        "import time\n",
        "\n",
        "learning_rate = 1e-4\n",
        "classifier.train()\n",
        "optimizer = optim.SGD(classifier.parameters(), lr=0.01, momentum=0.5) \n",
        "\n",
        "def train_classifier():\n",
        "  for batch_idx, (images, labels) in enumerate(train_loader):\n",
        "    output = classifier(images)\n",
        "    loss = F.nll_loss(output, labels)\n",
        "    if batch_idx % 100 == 0:\n",
        "      print(loss)\n",
        "    optimizer.zero_grad()\n",
        "    loss.backward()\n",
        "    optimizer.step()\n",
        "    \n",
        "%time train_classifier()"
      ],
      "execution_count": 7,
      "outputs": [
        {
          "output_type": "stream",
          "text": [
            "tensor(2.3095)\n",
            "tensor(2.1289)\n",
            "tensor(1.1037)\n",
            "tensor(0.8660)\n",
            "tensor(1.0582)\n",
            "tensor(0.8804)\n",
            "tensor(0.5795)\n",
            "tensor(0.5391)\n",
            "tensor(0.3257)\n",
            "tensor(0.3921)\n",
            "CPU times: user 20.3 s, sys: 4.56 s, total: 24.9 s\n",
            "Wall time: 24.5 s\n"
          ],
          "name": "stdout"
        }
      ]
    },
    {
      "metadata": {
        "id": "NUfGcFFertQ0",
        "colab_type": "text"
      },
      "cell_type": "markdown",
      "source": [
        "把执行移动到 GPU 上进行，加快速度"
      ]
    },
    {
      "metadata": {
        "id": "FQ5XpfSOrwu1",
        "colab_type": "code",
        "colab": {
          "base_uri": "https://localhost:8080/",
          "height": 218
        },
        "outputId": "090f897a-c27f-4b7b-954c-a1a77f8edfd7"
      },
      "cell_type": "code",
      "source": [
        "import torch.optim as optim\n",
        "import time\n",
        "\n",
        "gpu = torch.device(\"cuda\")\n",
        "learning_rate = 1e-4\n",
        "classifier = classifier.to(gpu)\n",
        "classifier.train()\n",
        "optimizer = optim.SGD(classifier.parameters(), lr=0.01, momentum=0.5) \n",
        "\n",
        "def train_classifier():\n",
        "  for batch_idx, (images, labels) in enumerate(train_loader):\n",
        "    images, labels = images.to(gpu), labels.to(gpu)\n",
        "    output = classifier(images)\n",
        "    loss = F.nll_loss(output, labels)\n",
        "    if batch_idx % 100 == 0:\n",
        "      print(loss)\n",
        "    optimizer.zero_grad()\n",
        "    loss.backward()\n",
        "    optimizer.step()\n",
        "    \n",
        "%time train_classifier()"
      ],
      "execution_count": 8,
      "outputs": [
        {
          "output_type": "stream",
          "text": [
            "tensor(0.5357, device='cuda:0')\n",
            "tensor(0.4337, device='cuda:0')\n",
            "tensor(0.6912, device='cuda:0')\n",
            "tensor(0.4114, device='cuda:0')\n",
            "tensor(0.3777, device='cuda:0')\n",
            "tensor(0.2065, device='cuda:0')\n",
            "tensor(0.4662, device='cuda:0')\n",
            "tensor(0.5486, device='cuda:0')\n",
            "tensor(0.2636, device='cuda:0')\n",
            "tensor(0.4928, device='cuda:0')\n",
            "CPU times: user 6.2 s, sys: 2.14 s, total: 8.34 s\n",
            "Wall time: 13.9 s\n"
          ],
          "name": "stdout"
        }
      ]
    },
    {
      "metadata": {
        "id": "AMoZQAU7tQ7-",
        "colab_type": "code",
        "colab": {
          "base_uri": "https://localhost:8080/",
          "height": 67
        },
        "outputId": "cbd365bc-324a-498b-b614-3b2691221108"
      },
      "cell_type": "code",
      "source": [
        "def test_classifier():\n",
        "    classifier.eval()\n",
        "    test_loss = 0\n",
        "    correct = 0\n",
        "    with torch.no_grad():\n",
        "        for images, labels in test_loader:\n",
        "            images, labels = images.to(gpu), labels.to(gpu)\n",
        "            output = classifier(images)\n",
        "            test_loss += F.nll_loss(output, labels, size_average=False).item() # sum up batch loss\n",
        "            pred = output.max(1, keepdim=True)[1] # get the index of the max log-probability\n",
        "            correct += pred.eq(labels.view_as(pred)).sum().item()\n",
        "            \n",
        "    test_loss /= len(test_loader.dataset)\n",
        "    print('\\nTest set: Average loss: {:.4f}, Accuracy: {}/{} ({:.0f}%)\\n'.format(\n",
        "        test_loss, correct, len(test_loader.dataset),\n",
        "        100. * correct / len(test_loader.dataset)))\n",
        "    \n",
        "test_classifier()"
      ],
      "execution_count": 9,
      "outputs": [
        {
          "output_type": "stream",
          "text": [
            "\n",
            "Test set: Average loss: 0.1213, Accuracy: 9602/10000 (96%)\n",
            "\n"
          ],
          "name": "stdout"
        }
      ]
    },
    {
      "metadata": {
        "id": "-NDcPp6yt9Yc",
        "colab_type": "text"
      },
      "cell_type": "markdown",
      "source": [
        "看到经过训练之后准确率已经不错了，再反复来几遍"
      ]
    },
    {
      "metadata": {
        "id": "jhxAs2dBuAcE",
        "colab_type": "code",
        "colab": {
          "base_uri": "https://localhost:8080/",
          "height": 1478
        },
        "outputId": "7a29b846-d786-450f-ae38-64c904916722"
      },
      "cell_type": "code",
      "source": [
        "for epoch in range(1, 5):\n",
        "    print('=== epoch', epoch)\n",
        "    train_classifier()\n",
        "    test_classifier()"
      ],
      "execution_count": 10,
      "outputs": [
        {
          "output_type": "stream",
          "text": [
            "=== epoch 1\n",
            "tensor(0.1411, device='cuda:0')\n",
            "tensor(0.1694, device='cuda:0')\n",
            "tensor(0.3070, device='cuda:0')\n",
            "tensor(0.1785, device='cuda:0')\n",
            "tensor(1.00000e-02 *\n",
            "       6.1945, device='cuda:0')\n",
            "tensor(1.00000e-02 *\n",
            "       3.2520, device='cuda:0')\n",
            "tensor(0.1575, device='cuda:0')\n",
            "tensor(1.00000e-02 *\n",
            "       3.7431, device='cuda:0')\n",
            "tensor(1.00000e-02 *\n",
            "       5.7541, device='cuda:0')\n",
            "tensor(1.00000e-02 *\n",
            "       5.1727, device='cuda:0')\n",
            "\n",
            "Test set: Average loss: 0.0680, Accuracy: 9781/10000 (98%)\n",
            "\n",
            "=== epoch 2\n",
            "tensor(1.00000e-02 *\n",
            "       5.4730, device='cuda:0')\n",
            "tensor(1.00000e-02 *\n",
            "       3.6258, device='cuda:0')\n",
            "tensor(1.00000e-02 *\n",
            "       1.0177, device='cuda:0')\n",
            "tensor(1.00000e-02 *\n",
            "       8.9760, device='cuda:0')\n",
            "tensor(1.00000e-02 *\n",
            "       6.4827, device='cuda:0')\n",
            "tensor(0.1367, device='cuda:0')\n",
            "tensor(0.1059, device='cuda:0')\n",
            "tensor(0.1169, device='cuda:0')\n",
            "tensor(0.1280, device='cuda:0')\n",
            "tensor(1.00000e-02 *\n",
            "       7.4424, device='cuda:0')\n",
            "\n",
            "Test set: Average loss: 0.0568, Accuracy: 9806/10000 (98%)\n",
            "\n",
            "=== epoch 3\n",
            "tensor(1.00000e-02 *\n",
            "       1.2315, device='cuda:0')\n",
            "tensor(1.00000e-02 *\n",
            "       4.2295, device='cuda:0')\n",
            "tensor(1.00000e-02 *\n",
            "       6.3497, device='cuda:0')\n",
            "tensor(1.00000e-02 *\n",
            "       3.1049, device='cuda:0')\n",
            "tensor(1.00000e-02 *\n",
            "       6.7537, device='cuda:0')\n",
            "tensor(1.00000e-02 *\n",
            "       1.2290, device='cuda:0')\n",
            "tensor(1.00000e-02 *\n",
            "       4.6338, device='cuda:0')\n",
            "tensor(1.00000e-02 *\n",
            "       5.9353, device='cuda:0')\n",
            "tensor(1.00000e-03 *\n",
            "       3.2482, device='cuda:0')\n",
            "tensor(1.00000e-02 *\n",
            "       6.3729, device='cuda:0')\n",
            "\n",
            "Test set: Average loss: 0.0462, Accuracy: 9853/10000 (99%)\n",
            "\n",
            "=== epoch 4\n",
            "tensor(1.00000e-02 *\n",
            "       7.6343, device='cuda:0')\n",
            "tensor(1.00000e-02 *\n",
            "       2.6969, device='cuda:0')\n",
            "tensor(1.00000e-02 *\n",
            "       2.7581, device='cuda:0')\n",
            "tensor(1.00000e-02 *\n",
            "       2.7440, device='cuda:0')\n",
            "tensor(1.00000e-02 *\n",
            "       2.2153, device='cuda:0')\n",
            "tensor(1.00000e-02 *\n",
            "       3.5838, device='cuda:0')\n",
            "tensor(1.00000e-02 *\n",
            "       1.8272, device='cuda:0')\n",
            "tensor(1.00000e-02 *\n",
            "       1.8455, device='cuda:0')\n",
            "tensor(1.00000e-02 *\n",
            "       1.3217, device='cuda:0')\n",
            "tensor(1.00000e-02 *\n",
            "       4.0454, device='cuda:0')\n",
            "\n",
            "Test set: Average loss: 0.0433, Accuracy: 9863/10000 (99%)\n",
            "\n"
          ],
          "name": "stdout"
        }
      ]
    },
    {
      "metadata": {
        "id": "f59PAMxluxrv",
        "colab_type": "text"
      },
      "cell_type": "markdown",
      "source": [
        "最后我们来检验一下成果，随机从测试集里找一个图片，看看是不是能识别对"
      ]
    },
    {
      "metadata": {
        "id": "QTdGzyWRvHYU",
        "colab_type": "code",
        "colab": {
          "base_uri": "https://localhost:8080/",
          "height": 381
        },
        "outputId": "496a7eea-0f71-4ef0-acde-5bba6ea8fe13"
      },
      "cell_type": "code",
      "source": [
        "dataiter = iter(test_loader)\n",
        "images, labels = dataiter.next()\n",
        "images, labels = images.to(gpu), labels.to(gpu)\n",
        "\n",
        "n = 3 # the 3rd image in the batch\n",
        "plt.imshow(images[n][0], 'gray')\n",
        "print('actual: ', labels[n])\n",
        "classifier.eval() # 设置为 eval 模式\n",
        "classified = classifier(images).max(1, keepdim=True)[1]\n",
        "print('classified as: ', classified[n])"
      ],
      "execution_count": 12,
      "outputs": [
        {
          "output_type": "stream",
          "text": [
            "actual:  tensor(2, device='cuda:0')\n",
            "classified as:  tensor([ 2], device='cuda:0')\n"
          ],
          "name": "stdout"
        },
        {
          "output_type": "display_data",
          "data": {
            "image/png": "[encoded data removed]",
            "text/plain": [
              "<matplotlib.figure.Figure at 0x7f225588f320>"
            ]
          },
          "metadata": {
            "tags": []
          }
        }
      ]
    },
    {
      "metadata": {
        "id": "0TxCgzqfvV3T",
        "colab_type": "text"
      },
      "cell_type": "markdown",
      "source": [
        "我们可以看到识别正确了\n",
        "\n",
        "但是为什么神经网络可以做到识别不同形状地数字呢？它是如何从输入中发现特征，找到内在规律的呢？\n",
        "\n",
        "下一节我们来仔细看看内在的工作原理。\n"
      ]
    }
  ]
}