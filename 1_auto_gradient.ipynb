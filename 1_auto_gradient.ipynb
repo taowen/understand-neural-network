{
  "nbformat": 4,
  "nbformat_minor": 0,
  "metadata": {
    "colab": {
      "name": "1 auto gradient.ipynb",
      "version": "0.3.2",
      "provenance": [],
      "collapsed_sections": []
    },
    "kernelspec": {
      "name": "python3",
      "display_name": "Python 3"
    },
    "accelerator": "GPU"
  },
  "cells": [
    {
      "metadata": {
        "id": "kM7LpAjrB3aV",
        "colab_type": "text"
      },
      "cell_type": "markdown",
      "source": [
        "首先安装 pytorch"
      ]
    },
    {
      "metadata": {
        "id": "oXMrKn9Vezfh",
        "colab_type": "code",
        "colab": {
          "base_uri": "https://localhost:8080/",
          "height": 322
        },
        "outputId": "b4c8dcb5-f2de-40af-9123-5536ec58fbd5"
      },
      "cell_type": "code",
      "source": [
        "!pip install torch torchvision"
      ],
      "execution_count": 6,
      "outputs": [
        {
          "output_type": "stream",
          "text": [
            "Collecting torch\n",
            "\u001b[?25l  Downloading https://files.pythonhosted.org/packages/69/43/380514bd9663f1bf708abeb359b8b48d3fabb1c8e95bb3427a980a064c57/torch-0.4.0-cp36-cp36m-manylinux1_x86_64.whl (484.0MB)\n",
            "\u001b[K    100% |████████████████████████████████| 484.0MB 29kB/s \n",
            "tcmalloc: large alloc 1073750016 bytes == 0x5b774000 @  0x7f9bdbea51c4 0x46d6a4 0x5fcbcc 0x4c494d 0x54f3c4 0x553aaf 0x54e4c8 0x54f4f6 0x553aaf 0x54efc1 0x54f24d 0x553aaf 0x54efc1 0x54f24d 0x553aaf 0x54efc1 0x54f24d 0x551ee0 0x54e4c8 0x54f4f6 0x553aaf 0x54efc1 0x54f24d 0x551ee0 0x54efc1 0x54f24d 0x551ee0 0x54e4c8 0x54f4f6 0x553aaf 0x54e4c8\n",
            "\u001b[?25hCollecting torchvision\n",
            "\u001b[?25l  Downloading https://files.pythonhosted.org/packages/ca/0d/f00b2885711e08bd71242ebe7b96561e6f6d01fdb4b9dcf4d37e2e13c5e1/torchvision-0.2.1-py2.py3-none-any.whl (54kB)\n",
            "\u001b[K    100% |████████████████████████████████| 61kB 12.7MB/s \n",
            "\u001b[?25hRequirement already satisfied: six in /usr/local/lib/python3.6/dist-packages (from torchvision) (1.11.0)\n",
            "Requirement already satisfied: numpy in /usr/local/lib/python3.6/dist-packages (from torchvision) (1.14.5)\n",
            "Collecting pillow>=4.1.1 (from torchvision)\n",
            "\u001b[?25l  Downloading https://files.pythonhosted.org/packages/d1/24/f53ff6b61b3d728b90934bddb4f03f8ab584a7f49299bf3bde56e2952612/Pillow-5.2.0-cp36-cp36m-manylinux1_x86_64.whl (2.0MB)\n",
            "\u001b[K    100% |████████████████████████████████| 2.0MB 14.6MB/s \n",
            "\u001b[?25hInstalling collected packages: torch, pillow, torchvision\n",
            "  Found existing installation: Pillow 4.0.0\n",
            "    Uninstalling Pillow-4.0.0:\n",
            "      Successfully uninstalled Pillow-4.0.0\n",
            "Successfully installed pillow-5.2.0 torch-0.4.0 torchvision-0.2.1\n"
          ],
          "name": "stdout"
        }
      ]
    },
    {
      "metadata": {
        "id": "BeqK-oiJCB5I",
        "colab_type": "text"
      },
      "cell_type": "markdown",
      "source": [
        "pytorch 首先是 tensor （n维数组）的计算库"
      ]
    },
    {
      "metadata": {
        "id": "o_AiyAk3CKM3",
        "colab_type": "code",
        "colab": {
          "base_uri": "https://localhost:8080/",
          "height": 34
        },
        "outputId": "7eb5035e-0ba7-43d5-f72c-f025a4cfd00b"
      },
      "cell_type": "code",
      "source": [
        "import torch\n",
        "x = torch.Tensor([1.0, 2.0, 3.0]) # vector (1d)\n",
        "y = x ** x\n",
        "y"
      ],
      "execution_count": 0,
      "outputs": [
        {
          "output_type": "execute_result",
          "data": {
            "text/plain": [
              "tensor([  1.,   4.,  27.])"
            ]
          },
          "metadata": {
            "tags": []
          },
          "execution_count": 3
        }
      ]
    },
    {
      "metadata": {
        "id": "GUT6pEYJCcNN",
        "colab_type": "code",
        "colab": {
          "base_uri": "https://localhost:8080/",
          "height": 51
        },
        "outputId": "e531003d-4f77-439d-9a34-5e96207e5be4"
      },
      "cell_type": "code",
      "source": [
        "import torch\n",
        "x = torch.Tensor([\n",
        "    [1.0, 2.0, 3.0], \n",
        "    [1.0, 2.0, 3.0]\n",
        "]) # matrix (2d)\n",
        "y = x ** x\n",
        "y"
      ],
      "execution_count": 0,
      "outputs": [
        {
          "output_type": "execute_result",
          "data": {
            "text/plain": [
              "tensor([[  1.,   4.,  27.],\n",
              "        [  1.,   4.,  27.]])"
            ]
          },
          "metadata": {
            "tags": []
          },
          "execution_count": 77
        }
      ]
    },
    {
      "metadata": {
        "id": "HMXP5VaRCqBy",
        "colab_type": "code",
        "colab": {
          "base_uri": "https://localhost:8080/",
          "height": 136
        },
        "outputId": "05f2e384-48f4-4377-d723-5bb00dedc4d1"
      },
      "cell_type": "code",
      "source": [
        "import torch\n",
        "x = torch.Tensor([\n",
        "    [[1.0], [2.0], [3.0]], \n",
        "    [[1.0], [2.0], [3.0]]\n",
        "]) # tensor (more than 2d)\n",
        "y = x ** x\n",
        "y"
      ],
      "execution_count": 0,
      "outputs": [
        {
          "output_type": "execute_result",
          "data": {
            "text/plain": [
              "tensor([[[  1.],\n",
              "         [  4.],\n",
              "         [ 27.]],\n",
              "\n",
              "        [[  1.],\n",
              "         [  4.],\n",
              "         [ 27.]]])"
            ]
          },
          "metadata": {
            "tags": []
          },
          "execution_count": 79
        }
      ]
    },
    {
      "metadata": {
        "id": "KJO5_lQaeesL",
        "colab_type": "text"
      },
      "cell_type": "markdown",
      "source": [
        "相比 numpy 来说 pytorch 把类似的编程体验扩展到了 GPU 计算上。只需要调用 cuda 这个函数就可以了。"
      ]
    },
    {
      "metadata": {
        "id": "JfMAdiOCa__P",
        "colab_type": "code",
        "colab": {
          "base_uri": "https://localhost:8080/",
          "height": 34
        },
        "outputId": "19145c6c-c43c-4282-de6b-f7400b8abe50"
      },
      "cell_type": "code",
      "source": [
        "import torch\n",
        "x = torch.Tensor([1.0, 2.0, 3.0]).cuda() # 这个运行在 GPU 上\n",
        "y = x ** x\n",
        "y"
      ],
      "execution_count": 0,
      "outputs": [
        {
          "output_type": "execute_result",
          "data": {
            "text/plain": [
              "tensor([  1.,   4.,  27.], device='cuda:0')"
            ]
          },
          "metadata": {
            "tags": []
          },
          "execution_count": 5
        }
      ]
    },
    {
      "metadata": {
        "id": "u19xRnPfDTZv",
        "colab_type": "text"
      },
      "cell_type": "markdown",
      "source": [
        "pytorch 除了可以用来做 tensor 的运算之外，还可以对计算过程进行自动求导数（也就是梯度）"
      ]
    },
    {
      "metadata": {
        "id": "S7bX-SC4DbdW",
        "colab_type": "code",
        "colab": {
          "base_uri": "https://localhost:8080/",
          "height": 34
        },
        "outputId": "239e001a-1664-46d2-d2a7-ea32ddea8549"
      },
      "cell_type": "code",
      "source": [
        "import torch\n",
        "import matplotlib.pylab as plt\n",
        "\n",
        "x = torch.Tensor([3.0])\n",
        "x.requires_grad_(True) # Tensor 默认不追踪其的梯度\n",
        "y = x * x\n",
        "y.backward(torch.ones(len(x)))\n",
        "x.grad"
      ],
      "execution_count": 12,
      "outputs": [
        {
          "output_type": "execute_result",
          "data": {
            "text/plain": [
              "tensor([ 6.])"
            ]
          },
          "metadata": {
            "tags": []
          },
          "execution_count": 12
        }
      ]
    },
    {
      "metadata": {
        "id": "DJvIYVNmbuvQ",
        "colab_type": "text"
      },
      "cell_type": "markdown",
      "source": [
        "计算梯度出来的梯度可以用于梯度下降算法，其目的是把函数的结果往目标靠近。\n",
        "\n",
        "比如 f(x) = y\n",
        "\n",
        "为了把结果y向目标靠近，我们可以通过梯度计算去修改 x 或者修改 f。\n",
        "下面我们看一下给定f的情况下，修改x的情况"
      ]
    },
    {
      "metadata": {
        "id": "KbRY4b8UULn2",
        "colab_type": "code",
        "colab": {
          "base_uri": "https://localhost:8080/",
          "height": 364
        },
        "outputId": "ec6446bf-c6aa-40da-d389-cf8859b91391"
      },
      "cell_type": "code",
      "source": [
        "import numpy as np\n",
        "import matplotlib.pylab as plt\n",
        "\n",
        "x = np.linspace(-5, 5, 21)\n",
        "y = x * x\n",
        "plt.plot(x, y, 'r')"
      ],
      "execution_count": 0,
      "outputs": [
        {
          "output_type": "execute_result",
          "data": {
            "text/plain": [
              "[<matplotlib.lines.Line2D at 0x7fcf3a633128>]"
            ]
          },
          "metadata": {
            "tags": []
          },
          "execution_count": 8
        },
        {
          "output_type": "display_data",
          "data": {
            "image/png": "[encoded data removed]",
            "text/plain": [
              "<matplotlib.figure.Figure at 0x7fcf3a6615f8>"
            ]
          },
          "metadata": {
            "tags": []
          }
        }
      ]
    },
    {
      "metadata": {
        "id": "ZKCJbKBRciv4",
        "colab_type": "text"
      },
      "cell_type": "markdown",
      "source": [
        "假设初始的情况是这样的"
      ]
    },
    {
      "metadata": {
        "id": "B6dma_J6cl--",
        "colab_type": "code",
        "colab": {
          "base_uri": "https://localhost:8080/",
          "height": 34
        },
        "outputId": "2558ee0f-b770-4243-d1b7-5de398e886dd"
      },
      "cell_type": "code",
      "source": [
        "import torch\n",
        "\n",
        "x = torch.Tensor([1.0])\n",
        "y = x * x\n",
        "target = torch.Tensor([10.0])\n",
        "loss = target - y\n",
        "loss # 距离目标的差距"
      ],
      "execution_count": 0,
      "outputs": [
        {
          "output_type": "execute_result",
          "data": {
            "text/plain": [
              "tensor([ 9.])"
            ]
          },
          "metadata": {
            "tags": []
          },
          "execution_count": 14
        }
      ]
    },
    {
      "metadata": {
        "id": "02lnGHdnc-11",
        "colab_type": "text"
      },
      "cell_type": "markdown",
      "source": [
        "为了把 y 朝着目标 10 前进，需要计算当前的梯度"
      ]
    },
    {
      "metadata": {
        "id": "tpCl-eZbdHSZ",
        "colab_type": "code",
        "colab": {
          "base_uri": "https://localhost:8080/",
          "height": 34
        },
        "outputId": "997451e5-93c3-405e-dd8f-c20321a751c3"
      },
      "cell_type": "code",
      "source": [
        "import torch\n",
        "\n",
        "x = torch.Tensor([1.0])\n",
        "x.requires_grad_(True)\n",
        "y = x * x\n",
        "target = torch.Tensor([10.0])\n",
        "loss = y - target\n",
        "loss.backward()\n",
        "x.grad # 梯度"
      ],
      "execution_count": 46,
      "outputs": [
        {
          "output_type": "execute_result",
          "data": {
            "text/plain": [
              "tensor([ 2.])"
            ]
          },
          "metadata": {
            "tags": []
          },
          "execution_count": 46
        }
      ]
    },
    {
      "metadata": {
        "id": "4t-ovHdFfPsG",
        "colab_type": "text"
      },
      "cell_type": "markdown",
      "source": [
        "利用 x 的梯度，我们可以来更新 x 的值使得 f(x) 朝着目标 10 前进"
      ]
    },
    {
      "metadata": {
        "id": "MrE6sWbvvd15",
        "colab_type": "code",
        "colab": {
          "base_uri": "https://localhost:8080/",
          "height": 50
        },
        "outputId": "d8348e63-e6b3-4871-faf6-06e17ebe028f"
      },
      "cell_type": "code",
      "source": [
        "import torch\n",
        "\n",
        "x = torch.Tensor([1.0])\n",
        "learning_rate = 0.1\n",
        "gradient = torch.Tensor([2.0])\n",
        "x = x - learning_rate * gradient\n",
        "print(\"updated x\", x)\n",
        "y = x * x\n",
        "print(y)"
      ],
      "execution_count": 47,
      "outputs": [
        {
          "output_type": "stream",
          "text": [
            "updated x tensor([ 0.8000])\n",
            "tensor([ 0.6400])\n"
          ],
          "name": "stdout"
        }
      ]
    },
    {
      "metadata": {
        "id": "jryuNDDerl8v",
        "colab_type": "text"
      },
      "cell_type": "markdown",
      "source": [
        "![alt text](https://)\n",
        "\n",
        "---\n",
        "\n"
      ]
    },
    {
      "metadata": {
        "id": "HV0RJNUyX-Pj",
        "colab_type": "code",
        "colab": {
          "base_uri": "https://localhost:8080/",
          "height": 364
        },
        "outputId": "9f2bc6da-719f-4ee1-f9cc-a05d97a11b74"
      },
      "cell_type": "code",
      "source": [
        "import numpy as np\n",
        "import matplotlib.pylab as plt\n",
        "\n",
        "x = np.linspace(-5, 5, 21)\n",
        "y = pow(x * x - 10, 2)\n",
        "plt.plot(x, y, 'r')\n",
        "plt.plot(1, pow(1 * 1 - 10, 2),'bo') \n",
        "plt.plot(1.1, pow(1.1 * 1.1 - 10, 2),'yo') "
      ],
      "execution_count": 86,
      "outputs": [
        {
          "output_type": "execute_result",
          "data": {
            "text/plain": [
              "[<matplotlib.lines.Line2D at 0x7f61f5cf24a8>]"
            ]
          },
          "metadata": {
            "tags": []
          },
          "execution_count": 86
        },
        {
          "output_type": "display_data",
          "data": {
            "image/png": "[encoded data removed]",
            "text/plain": [
              "<matplotlib.figure.Figure at 0x7f61f5d2b3c8>"
            ]
          },
          "metadata": {
            "tags": []
          }
        }
      ]
    },
    {
      "metadata": {
        "id": "UZlwTc6rYk7B",
        "colab_type": "text"
      },
      "cell_type": "markdown",
      "source": [
        "重复多次前面的更新 x 的过程"
      ]
    },
    {
      "metadata": {
        "id": "-rPLUt0fv609",
        "colab_type": "code",
        "colab": {
          "base_uri": "https://localhost:8080/",
          "height": 2184
        },
        "outputId": "bc2d6d86-e268-434c-bc08-0bdd2467992b"
      },
      "cell_type": "code",
      "source": [
        "import torch\n",
        "\n",
        "x = torch.Tensor([1.0])\n",
        "x.requires_grad_(True)\n",
        "target = torch.Tensor([10.0])\n",
        "learning_rate = 0.05\n",
        "\n",
        "for i in range(32):\n",
        "  print('====')\n",
        "  y = x * x\n",
        "  loss = torch.abs(target - y)\n",
        "  print('y', y, 'target', target, 'loss', loss)\n",
        "  # Use autograd to compute the backward pass. This call will compute the\n",
        "  # gradient of loss with respect to all Tensors with requires_grad=True.\n",
        "  # After this call x.grad will be Tensors holding the gradient\n",
        "  # of the loss with respect to x.\n",
        "  loss.backward()\n",
        "  with torch.no_grad():\n",
        "    x -= learning_rate * x.grad\n",
        "    print('updated x', x, 'x.grad', x.grad)\n",
        "    x.grad.zero_()\n",
        "    y = x * x\n",
        "    print('updated y', y)"
      ],
      "execution_count": 83,
      "outputs": [
        {
          "output_type": "stream",
          "text": [
            "====\n",
            "y tensor([ 1.]) target tensor([ 10.]) loss tensor([ 9.])\n",
            "updated x tensor([ 1.1000]) x.grad tensor([-2.])\n",
            "updated y tensor([ 1.2100])\n",
            "====\n",
            "y tensor([ 1.2100]) target tensor([ 10.]) loss tensor([ 8.7900])\n",
            "updated x tensor([ 1.2100]) x.grad tensor([-2.2000])\n",
            "updated y tensor([ 1.4641])\n",
            "====\n",
            "y tensor([ 1.4641]) target tensor([ 10.]) loss tensor([ 8.5359])\n",
            "updated x tensor([ 1.3310]) x.grad tensor([-2.4200])\n",
            "updated y tensor([ 1.7716])\n",
            "====\n",
            "y tensor([ 1.7716]) target tensor([ 10.]) loss tensor([ 8.2284])\n",
            "updated x tensor([ 1.4641]) x.grad tensor([-2.6620])\n",
            "updated y tensor([ 2.1436])\n",
            "====\n",
            "y tensor([ 2.1436]) target tensor([ 10.]) loss tensor([ 7.8564])\n",
            "updated x tensor([ 1.6105]) x.grad tensor([-2.9282])\n",
            "updated y tensor([ 2.5937])\n",
            "====\n",
            "y tensor([ 2.5937]) target tensor([ 10.]) loss tensor([ 7.4063])\n",
            "updated x tensor([ 1.7716]) x.grad tensor([-3.2210])\n",
            "updated y tensor([ 3.1384])\n",
            "====\n",
            "y tensor([ 3.1384]) target tensor([ 10.]) loss tensor([ 6.8616])\n",
            "updated x tensor([ 1.9487]) x.grad tensor([-3.5431])\n",
            "updated y tensor([ 3.7975])\n",
            "====\n",
            "y tensor([ 3.7975]) target tensor([ 10.]) loss tensor([ 6.2025])\n",
            "updated x tensor([ 2.1436]) x.grad tensor([-3.8974])\n",
            "updated y tensor([ 4.5950])\n",
            "====\n",
            "y tensor([ 4.5950]) target tensor([ 10.]) loss tensor([ 5.4050])\n",
            "updated x tensor([ 2.3579]) x.grad tensor([-4.2872])\n",
            "updated y tensor([ 5.5599])\n",
            "====\n",
            "y tensor([ 5.5599]) target tensor([ 10.]) loss tensor([ 4.4401])\n",
            "updated x tensor([ 2.5937]) x.grad tensor([-4.7159])\n",
            "updated y tensor([ 6.7275])\n",
            "====\n",
            "y tensor([ 6.7275]) target tensor([ 10.]) loss tensor([ 3.2725])\n",
            "updated x tensor([ 2.8531]) x.grad tensor([-5.1875])\n",
            "updated y tensor([ 8.1403])\n",
            "====\n",
            "y tensor([ 8.1403]) target tensor([ 10.]) loss tensor([ 1.8597])\n",
            "updated x tensor([ 3.1384]) x.grad tensor([-5.7062])\n",
            "updated y tensor([ 9.8497])\n",
            "====\n",
            "y tensor([ 9.8497]) target tensor([ 10.]) loss tensor([ 0.1503])\n",
            "updated x tensor([ 3.4523]) x.grad tensor([-6.2769])\n",
            "updated y tensor([ 11.9182])\n",
            "====\n",
            "y tensor([ 11.9182]) target tensor([ 10.]) loss tensor([ 1.9182])\n",
            "updated x tensor([ 3.1070]) x.grad tensor([ 6.9045])\n",
            "updated y tensor([ 9.6537])\n",
            "====\n",
            "y tensor([ 9.6537]) target tensor([ 10.]) loss tensor([ 0.3463])\n",
            "updated x tensor([ 3.4177]) x.grad tensor([-6.2141])\n",
            "updated y tensor([ 11.6810])\n",
            "====\n",
            "y tensor([ 11.6810]) target tensor([ 10.]) loss tensor([ 1.6810])\n",
            "updated x tensor([ 3.0760]) x.grad tensor([ 6.8355])\n",
            "updated y tensor([ 9.4616])\n",
            "====\n",
            "y tensor([ 9.4616]) target tensor([ 10.]) loss tensor([ 0.5384])\n",
            "updated x tensor([ 3.3836]) x.grad tensor([-6.1519])\n",
            "updated y tensor([ 11.4486])\n",
            "====\n",
            "y tensor([ 11.4486]) target tensor([ 10.]) loss tensor([ 1.4486])\n",
            "updated x tensor([ 3.0452]) x.grad tensor([ 6.7671])\n",
            "updated y tensor([ 9.2733])\n",
            "====\n",
            "y tensor([ 9.2733]) target tensor([ 10.]) loss tensor([ 0.7267])\n",
            "updated x tensor([ 3.3497]) x.grad tensor([-6.0904])\n",
            "updated y tensor([ 11.2207])\n",
            "====\n",
            "y tensor([ 11.2207]) target tensor([ 10.]) loss tensor([ 1.2207])\n",
            "updated x tensor([ 3.0148]) x.grad tensor([ 6.6995])\n",
            "updated y tensor([ 9.0888])\n",
            "====\n",
            "y tensor([ 9.0888]) target tensor([ 10.]) loss tensor([ 0.9112])\n",
            "updated x tensor([ 3.3162]) x.grad tensor([-6.0295])\n",
            "updated y tensor([ 10.9974])\n",
            "====\n",
            "y tensor([ 10.9974]) target tensor([ 10.]) loss tensor([ 0.9974])\n",
            "updated x tensor([ 2.9846]) x.grad tensor([ 6.6325])\n",
            "updated y tensor([ 8.9079])\n",
            "====\n",
            "y tensor([ 8.9079]) target tensor([ 10.]) loss tensor([ 1.0921])\n",
            "updated x tensor([ 3.2831]) x.grad tensor([-5.9692])\n",
            "updated y tensor([ 10.7786])\n",
            "====\n",
            "y tensor([ 10.7786]) target tensor([ 10.]) loss tensor([ 0.7786])\n",
            "updated x tensor([ 2.9548]) x.grad tensor([ 6.5662])\n",
            "updated y tensor([ 8.7307])\n",
            "====\n",
            "y tensor([ 8.7307]) target tensor([ 10.]) loss tensor([ 1.2693])\n",
            "updated x tensor([ 3.2502]) x.grad tensor([-5.9095])\n",
            "updated y tensor([ 10.5641])\n",
            "====\n",
            "y tensor([ 10.5641]) target tensor([ 10.]) loss tensor([ 0.5641])\n",
            "updated x tensor([ 2.9252]) x.grad tensor([ 6.5005])\n",
            "updated y tensor([ 8.5569])\n",
            "====\n",
            "y tensor([ 8.5569]) target tensor([ 10.]) loss tensor([ 1.4431])\n",
            "updated x tensor([ 3.2177]) x.grad tensor([-5.8504])\n",
            "updated y tensor([ 10.3539])\n",
            "====\n",
            "y tensor([ 10.3539]) target tensor([ 10.]) loss tensor([ 0.3539])\n",
            "updated x tensor([ 2.8960]) x.grad tensor([ 6.4355])\n",
            "updated y tensor([ 8.3866])\n",
            "====\n",
            "y tensor([ 8.3866]) target tensor([ 10.]) loss tensor([ 1.6134])\n",
            "updated x tensor([ 3.1856]) x.grad tensor([-5.7919])\n",
            "updated y tensor([ 10.1478])\n",
            "====\n",
            "y tensor([ 10.1478]) target tensor([ 10.]) loss tensor([ 0.1478])\n",
            "updated x tensor([ 2.8670]) x.grad tensor([ 6.3711])\n",
            "updated y tensor([ 8.2197])\n",
            "====\n",
            "y tensor([ 8.2197]) target tensor([ 10.]) loss tensor([ 1.7803])\n",
            "updated x tensor([ 3.1537]) x.grad tensor([-5.7340])\n",
            "updated y tensor([ 9.9459])\n",
            "====\n",
            "y tensor([ 9.9459]) target tensor([ 10.]) loss tensor(1.00000e-02 *\n",
            "       [ 5.4120])\n",
            "updated x tensor([ 3.4691]) x.grad tensor([-6.3074])\n",
            "updated y tensor([ 12.0345])\n"
          ],
          "name": "stdout"
        }
      ]
    },
    {
      "metadata": {
        "id": "wMXMmE_WwT6i",
        "colab_type": "code",
        "colab": {
          "base_uri": "https://localhost:8080/",
          "height": 34
        },
        "outputId": "63567bf4-737d-47be-e944-6d072e66f384"
      },
      "cell_type": "code",
      "source": [
        "y = torch.Tensor([2, 3])\n",
        "y.requires_grad_(True)\n",
        "y"
      ],
      "execution_count": 0,
      "outputs": [
        {
          "output_type": "execute_result",
          "data": {
            "text/plain": [
              "tensor([ 2.,  3.])"
            ]
          },
          "metadata": {
            "tags": []
          },
          "execution_count": 43
        }
      ]
    },
    {
      "metadata": {
        "id": "NW0a8XWmwXi1",
        "colab_type": "code",
        "colab": {}
      },
      "cell_type": "code",
      "source": [
        "z = x * y\n",
        "z.backward(torch.Tensor([1, 1]))"
      ],
      "execution_count": 0,
      "outputs": []
    },
    {
      "metadata": {
        "id": "1vKAI4nRx_f2",
        "colab_type": "code",
        "colab": {}
      },
      "cell_type": "code",
      "source": [
        "y.backward(torch.Tensor([1,2]))"
      ],
      "execution_count": 0,
      "outputs": []
    },
    {
      "metadata": {
        "id": "r79wfPZxyF8t",
        "colab_type": "code",
        "colab": {
          "base_uri": "https://localhost:8080/",
          "height": 51
        },
        "outputId": "cefba4e7-56cd-4c69-e3b9-09e29f8c15c0"
      },
      "cell_type": "code",
      "source": [
        "print(x.grad)\n",
        "print(y.grad)"
      ],
      "execution_count": 0,
      "outputs": [
        {
          "output_type": "stream",
          "text": [
            "tensor([ 2.,  3.])\n",
            "tensor([ 1.,  2.])\n"
          ],
          "name": "stdout"
        }
      ]
    },
    {
      "metadata": {
        "id": "cZrlnuVqAE2_",
        "colab_type": "code",
        "colab": {
          "base_uri": "https://localhost:8080/",
          "height": 364
        },
        "outputId": "873b700b-16c2-401a-862b-63074215548f"
      },
      "cell_type": "code",
      "source": [
        "import numpy as np\n",
        "\n",
        "x = np.linspace(0, 5, 30)\n",
        "y = x * x\n",
        "plt.plot(x, y, 'r')"
      ],
      "execution_count": 0,
      "outputs": [
        {
          "output_type": "execute_result",
          "data": {
            "text/plain": [
              "[<matplotlib.lines.Line2D at 0x7f81170a7320>]"
            ]
          },
          "metadata": {
            "tags": []
          },
          "execution_count": 72
        },
        {
          "output_type": "display_data",
          "data": {
            "image/png": "[encoded data removed]",
            "text/plain": [
              "<matplotlib.figure.Figure at 0x7f81199baa20>"
            ]
          },
          "metadata": {
            "tags": []
          }
        }
      ]
    },
    {
      "metadata": {
        "id": "uE07Pr6I4SmU",
        "colab_type": "code",
        "colab": {
          "base_uri": "https://localhost:8080/",
          "height": 357
        },
        "outputId": "7c8ece06-591d-4651-8949-1ee9cac42f35"
      },
      "cell_type": "code",
      "source": [
        "import numpy as np\n",
        "from matplotlib import cm\n",
        "\n",
        "X=np.array([1,2])\n",
        "Y=np.array([2,4])\n",
        "Z=np.array([[0,0],[4,4],[5,5]])\n",
        "fig = plt.figure(figsize=(14,6))\n",
        "\n",
        "# `ax` is a 3D-aware axis instance, because of the projection='3d' keyword argument to add_subplot\n",
        "ax = fig.add_subplot(1, 2, 1, projection='3d')\n",
        "\n",
        "p = ax.plot_surface(X, Y, Z, rstride=4, cstride=4, linewidth=0)\n",
        "\n",
        "# # surface_plot with color grading and color bar\n",
        "# ax = fig.add_subplot(1, 2, 2, projection='3d')\n",
        "# p = ax.plot_surface(X, Y, Z, rstride=1, cstride=1, cmap=cm.coolwarm, linewidth=0, antialiased=False)\n",
        "# cb = fig.colorbar(p, shrink=0.5)"
      ],
      "execution_count": 0,
      "outputs": [
        {
          "output_type": "display_data",
          "data": {
            "image/png": "[encoded data removed]",
            "text/plain": [
              "<matplotlib.figure.Figure at 0x7f81153e0eb8>"
            ]
          },
          "metadata": {
            "tags": []
          }
        }
      ]
    }
  ]
}