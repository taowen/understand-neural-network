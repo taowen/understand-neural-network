{
  "nbformat": 4,
  "nbformat_minor": 0,
  "metadata": {
    "colab": {
      "name": "1 auto gradient.ipynb",
      "version": "0.3.2",
      "provenance": [],
      "collapsed_sections": []
    },
    "kernelspec": {
      "name": "python3",
      "display_name": "Python 3"
    },
    "accelerator": "GPU"
  },
  "cells": [
    {
      "metadata": {
        "id": "kM7LpAjrB3aV",
        "colab_type": "text"
      },
      "cell_type": "markdown",
      "source": [
        "首先安装 pytorch\n",
        "\n",
        "colab.research.google.com 并没有自带 pytorch，执行环境重启之后之前安装的 pytorch 会丢失\n",
        "\n",
        "如果执行 import torch 失败，重复执行下面这条命令"
      ]
    },
    {
      "metadata": {
        "id": "oXMrKn9Vezfh",
        "colab_type": "code",
        "colab": {
          "base_uri": "https://localhost:8080/",
          "height": 332
        },
        "outputId": "132df3b1-d31a-447a-d145-b416b8cd1ebc"
      },
      "cell_type": "code",
      "source": [
        "!pip install torch torchvision"
      ],
      "execution_count": 2,
      "outputs": [
        {
          "output_type": "stream",
          "text": [
            "Collecting torch\n",
            "\u001b[?25l  Downloading https://files.pythonhosted.org/packages/69/43/380514bd9663f1bf708abeb359b8b48d3fabb1c8e95bb3427a980a064c57/torch-0.4.0-cp36-cp36m-manylinux1_x86_64.whl (484.0MB)\n",
            "\u001b[K    100% |████████████████████████████████| 484.0MB 24kB/s \n",
            "tcmalloc: large alloc 1073750016 bytes == 0x5c256000 @  0x7f1b35a901c4 0x46d6a4 0x5fcbcc 0x4c494d 0x54f3c4 0x553aaf 0x54e4c8 0x54f4f6 0x553aaf 0x54efc1 0x54f24d 0x553aaf 0x54efc1 0x54f24d 0x553aaf 0x54efc1 0x54f24d 0x551ee0 0x54e4c8 0x54f4f6 0x553aaf 0x54efc1 0x54f24d 0x551ee0 0x54efc1 0x54f24d 0x551ee0 0x54e4c8 0x54f4f6 0x553aaf 0x54e4c8\n",
            "\u001b[?25hCollecting torchvision\n",
            "\u001b[?25l  Downloading https://files.pythonhosted.org/packages/ca/0d/f00b2885711e08bd71242ebe7b96561e6f6d01fdb4b9dcf4d37e2e13c5e1/torchvision-0.2.1-py2.py3-none-any.whl (54kB)\n",
            "\u001b[K    100% |████████████████████████████████| 61kB 14.5MB/s \n",
            "\u001b[?25hRequirement already satisfied: six in /usr/local/lib/python3.6/dist-packages (from torchvision) (1.11.0)\n",
            "Requirement already satisfied: numpy in /usr/local/lib/python3.6/dist-packages (from torchvision) (1.14.5)\n",
            "Collecting pillow>=4.1.1 (from torchvision)\n",
            "\u001b[?25l  Downloading https://files.pythonhosted.org/packages/d1/24/f53ff6b61b3d728b90934bddb4f03f8ab584a7f49299bf3bde56e2952612/Pillow-5.2.0-cp36-cp36m-manylinux1_x86_64.whl (2.0MB)\n",
            "\u001b[K    100% |████████████████████████████████| 2.0MB 16.4MB/s \n",
            "\u001b[?25hInstalling collected packages: torch, pillow, torchvision\n",
            "  Found existing installation: Pillow 4.0.0\n",
            "    Uninstalling Pillow-4.0.0:\n",
            "      Successfully uninstalled Pillow-4.0.0\n",
            "Successfully installed pillow-5.2.0 torch-0.4.0 torchvision-0.2.1\n"
          ],
          "name": "stdout"
        }
      ]
    },
    {
      "metadata": {
        "id": "BeqK-oiJCB5I",
        "colab_type": "text"
      },
      "cell_type": "markdown",
      "source": [
        "pytorch 首先是 tensor （n维数组）的计算库"
      ]
    },
    {
      "metadata": {
        "id": "o_AiyAk3CKM3",
        "colab_type": "code",
        "colab": {
          "base_uri": "https://localhost:8080/",
          "height": 34
        },
        "outputId": "7eb5035e-0ba7-43d5-f72c-f025a4cfd00b"
      },
      "cell_type": "code",
      "source": [
        "import torch\n",
        "x = torch.Tensor([1.0, 2.0, 3.0]) # vector (1d)\n",
        "y = x ** x\n",
        "y"
      ],
      "execution_count": 0,
      "outputs": [
        {
          "output_type": "execute_result",
          "data": {
            "text/plain": [
              "tensor([  1.,   4.,  27.])"
            ]
          },
          "metadata": {
            "tags": []
          },
          "execution_count": 3
        }
      ]
    },
    {
      "metadata": {
        "id": "GUT6pEYJCcNN",
        "colab_type": "code",
        "colab": {
          "base_uri": "https://localhost:8080/",
          "height": 51
        },
        "outputId": "e531003d-4f77-439d-9a34-5e96207e5be4"
      },
      "cell_type": "code",
      "source": [
        "import torch\n",
        "x = torch.Tensor([\n",
        "    [1.0, 2.0, 3.0], \n",
        "    [1.0, 2.0, 3.0]\n",
        "]) # matrix (2d)\n",
        "y = x ** x\n",
        "y"
      ],
      "execution_count": 0,
      "outputs": [
        {
          "output_type": "execute_result",
          "data": {
            "text/plain": [
              "tensor([[  1.,   4.,  27.],\n",
              "        [  1.,   4.,  27.]])"
            ]
          },
          "metadata": {
            "tags": []
          },
          "execution_count": 77
        }
      ]
    },
    {
      "metadata": {
        "id": "HMXP5VaRCqBy",
        "colab_type": "code",
        "colab": {
          "base_uri": "https://localhost:8080/",
          "height": 136
        },
        "outputId": "05f2e384-48f4-4377-d723-5bb00dedc4d1"
      },
      "cell_type": "code",
      "source": [
        "import torch\n",
        "x = torch.Tensor([\n",
        "    [[1.0], [2.0], [3.0]], \n",
        "    [[1.0], [2.0], [3.0]]\n",
        "]) # tensor (more than 2d)\n",
        "y = x ** x\n",
        "y"
      ],
      "execution_count": 0,
      "outputs": [
        {
          "output_type": "execute_result",
          "data": {
            "text/plain": [
              "tensor([[[  1.],\n",
              "         [  4.],\n",
              "         [ 27.]],\n",
              "\n",
              "        [[  1.],\n",
              "         [  4.],\n",
              "         [ 27.]]])"
            ]
          },
          "metadata": {
            "tags": []
          },
          "execution_count": 79
        }
      ]
    },
    {
      "metadata": {
        "id": "KJO5_lQaeesL",
        "colab_type": "text"
      },
      "cell_type": "markdown",
      "source": [
        "相比 numpy 来说 pytorch 把类似的编程体验扩展到了 GPU 计算上。只需要调用 cuda 这个函数就可以了。"
      ]
    },
    {
      "metadata": {
        "id": "JfMAdiOCa__P",
        "colab_type": "code",
        "colab": {
          "base_uri": "https://localhost:8080/",
          "height": 34
        },
        "outputId": "19145c6c-c43c-4282-de6b-f7400b8abe50"
      },
      "cell_type": "code",
      "source": [
        "import torch\n",
        "x = torch.Tensor([1.0, 2.0, 3.0]).cuda() # 这个运行在 GPU 上\n",
        "y = x ** x\n",
        "y"
      ],
      "execution_count": 0,
      "outputs": [
        {
          "output_type": "execute_result",
          "data": {
            "text/plain": [
              "tensor([  1.,   4.,  27.], device='cuda:0')"
            ]
          },
          "metadata": {
            "tags": []
          },
          "execution_count": 5
        }
      ]
    },
    {
      "metadata": {
        "id": "u19xRnPfDTZv",
        "colab_type": "text"
      },
      "cell_type": "markdown",
      "source": [
        "pytorch 除了可以用来做 tensor 的运算之外，还可以对计算过程进行自动求导数（也就是梯度）"
      ]
    },
    {
      "metadata": {
        "id": "S7bX-SC4DbdW",
        "colab_type": "code",
        "colab": {
          "base_uri": "https://localhost:8080/",
          "height": 34
        },
        "outputId": "239e001a-1664-46d2-d2a7-ea32ddea8549"
      },
      "cell_type": "code",
      "source": [
        "import torch\n",
        "import matplotlib.pylab as plt\n",
        "\n",
        "x = torch.Tensor([3.0])\n",
        "x.requires_grad_(True) # Tensor 默认不追踪其的梯度\n",
        "y = x * x\n",
        "y.backward(torch.ones(len(x)))\n",
        "x.grad"
      ],
      "execution_count": 0,
      "outputs": [
        {
          "output_type": "execute_result",
          "data": {
            "text/plain": [
              "tensor([ 6.])"
            ]
          },
          "metadata": {
            "tags": []
          },
          "execution_count": 12
        }
      ]
    },
    {
      "metadata": {
        "id": "DJvIYVNmbuvQ",
        "colab_type": "text"
      },
      "cell_type": "markdown",
      "source": [
        "计算梯度出来的梯度可以用于梯度下降算法，其目的是把函数的结果往目标靠近。\n",
        "\n",
        "比如 f(x) = y\n",
        "\n",
        "为了把结果y向目标靠近，我们可以通过梯度计算去修改 x 或者修改 f。\n",
        "下面我们看一下给定f的情况下，修改x的情况"
      ]
    },
    {
      "metadata": {
        "id": "KbRY4b8UULn2",
        "colab_type": "code",
        "colab": {
          "base_uri": "https://localhost:8080/",
          "height": 364
        },
        "outputId": "ec6446bf-c6aa-40da-d389-cf8859b91391"
      },
      "cell_type": "code",
      "source": [
        "import numpy as np\n",
        "import matplotlib.pylab as plt\n",
        "\n",
        "x = np.linspace(-5, 5, 21)\n",
        "y = x * x\n",
        "plt.plot(x, y, 'r')"
      ],
      "execution_count": 0,
      "outputs": [
        {
          "output_type": "execute_result",
          "data": {
            "text/plain": [
              "[<matplotlib.lines.Line2D at 0x7fcf3a633128>]"
            ]
          },
          "metadata": {
            "tags": []
          },
          "execution_count": 8
        },
        {
          "output_type": "display_data",
          "data": {
            "image/png": "[encoded data removed]",
            "text/plain": [
              "<matplotlib.figure.Figure at 0x7fcf3a6615f8>"
            ]
          },
          "metadata": {
            "tags": []
          }
        }
      ]
    },
    {
      "metadata": {
        "id": "ZKCJbKBRciv4",
        "colab_type": "text"
      },
      "cell_type": "markdown",
      "source": [
        "假设初始的情况是这样的"
      ]
    },
    {
      "metadata": {
        "id": "B6dma_J6cl--",
        "colab_type": "code",
        "colab": {
          "base_uri": "https://localhost:8080/",
          "height": 35
        },
        "outputId": "f3c5a908-5dd9-4f89-8877-601c77e0620a"
      },
      "cell_type": "code",
      "source": [
        "import torch\n",
        "\n",
        "x = torch.Tensor([1.0])\n",
        "y = x * x\n",
        "target = torch.Tensor([10.0])\n",
        "loss = torch.abs(y - target)\n",
        "loss # 距离目标的距离"
      ],
      "execution_count": 5,
      "outputs": [
        {
          "output_type": "execute_result",
          "data": {
            "text/plain": [
              "tensor([ 9.])"
            ]
          },
          "metadata": {
            "tags": []
          },
          "execution_count": 5
        }
      ]
    },
    {
      "metadata": {
        "id": "02lnGHdnc-11",
        "colab_type": "text"
      },
      "cell_type": "markdown",
      "source": [
        "为了把 y 朝着目标 10 前进，需要计算当前的梯度"
      ]
    },
    {
      "metadata": {
        "id": "tpCl-eZbdHSZ",
        "colab_type": "code",
        "colab": {
          "base_uri": "https://localhost:8080/",
          "height": 35
        },
        "outputId": "ec0915dd-ea89-4436-ec47-d06c1f51bfb9"
      },
      "cell_type": "code",
      "source": [
        "import torch\n",
        "\n",
        "x = torch.Tensor([1.0])\n",
        "x.requires_grad_(True)\n",
        "y = x * x\n",
        "target = torch.Tensor([10.0])\n",
        "loss = torch.abs(y - target)\n",
        "loss.backward()\n",
        "x.grad # 梯度"
      ],
      "execution_count": 16,
      "outputs": [
        {
          "output_type": "execute_result",
          "data": {
            "text/plain": [
              "tensor([-2.])"
            ]
          },
          "metadata": {
            "tags": []
          },
          "execution_count": 16
        }
      ]
    },
    {
      "metadata": {
        "id": "4t-ovHdFfPsG",
        "colab_type": "text"
      },
      "cell_type": "markdown",
      "source": [
        "利用 x 的梯度，我们可以来更新 x 的值使得 f(x) 朝着目标 10 前进"
      ]
    },
    {
      "metadata": {
        "id": "MrE6sWbvvd15",
        "colab_type": "code",
        "colab": {
          "base_uri": "https://localhost:8080/",
          "height": 52
        },
        "outputId": "3c24cae6-dc8e-422f-f3f0-bb08c47d445d"
      },
      "cell_type": "code",
      "source": [
        "import torch\n",
        "\n",
        "x = torch.Tensor([1.0])\n",
        "learning_rate = 0.1\n",
        "gradient = torch.Tensor([-2.0])\n",
        "x -= learning_rate * gradient\n",
        "print('updated x', x)\n",
        "y = x * x\n",
        "print('updated y', y)"
      ],
      "execution_count": 9,
      "outputs": [
        {
          "output_type": "stream",
          "text": [
            "updated x tensor([ 1.2000])\n",
            "updated y tensor([ 1.4400])\n"
          ],
          "name": "stdout"
        }
      ]
    },
    {
      "metadata": {
        "id": "4uzEnv4wn1n_",
        "colab_type": "code",
        "colab": {}
      },
      "cell_type": "code",
      "source": [
        ""
      ],
      "execution_count": 0,
      "outputs": []
    },
    {
      "metadata": {
        "id": "4MYVtLOAndeA",
        "colab_type": "text"
      },
      "cell_type": "markdown",
      "source": [
        "我们可以看到，利用gradient给出的方向，通过更新x，我们朝着y的目标前进了\n",
        "\n",
        "把 x 和 y 画到原来的抛物线上"
      ]
    },
    {
      "metadata": {
        "id": "P8_jzZyPn2CQ",
        "colab_type": "code",
        "colab": {
          "base_uri": "https://localhost:8080/",
          "height": 365
        },
        "outputId": "ffde486b-bdce-4ec5-bca4-c7f026a139e2"
      },
      "cell_type": "code",
      "source": [
        "import numpy as np \n",
        "import math\n",
        "import matplotlib.pylab as plt\n",
        "\n",
        "\n",
        "x = np.linspace(-5, 5, 21)\n",
        "y = x * x\n",
        "plt.plot(x, y, 'r')\n",
        "plt.plot(1.0, 1.0, 'bo') # 第一个点\n",
        "plt.plot(1.2, 1.44, 'yo') # 第二个点\n",
        "plt.plot(math.sqrt(10), 10, 'go') # 目标值"
      ],
      "execution_count": 15,
      "outputs": [
        {
          "output_type": "execute_result",
          "data": {
            "text/plain": [
              "[<matplotlib.lines.Line2D at 0x7f92b1bb7cc0>]"
            ]
          },
          "metadata": {
            "tags": []
          },
          "execution_count": 15
        },
        {
          "output_type": "display_data",
          "data": {
            "image/png": "[encoded data removed]",
            "text/plain": [
              "<matplotlib.figure.Figure at 0x7f92b1c9fe48>"
            ]
          },
          "metadata": {
            "tags": []
          }
        }
      ]
    },
    {
      "metadata": {
        "id": "YrrABMneogO2",
        "colab_type": "text"
      },
      "cell_type": "markdown",
      "source": [
        "但是所谓梯度下降算法不是应该收敛到一个局部的最小值么？从这个曲线上目标点并不是一个局部的最小值啊。\n",
        "\n",
        "这是因为我们实际优化的函数并不是 y = x * x\n",
        "\n",
        "而是 loss = abs(x * x - 10)"
      ]
    },
    {
      "metadata": {
        "id": "HV0RJNUyX-Pj",
        "colab_type": "code",
        "colab": {
          "base_uri": "https://localhost:8080/",
          "height": 365
        },
        "outputId": "e578f8b0-c634-4eb9-d1d5-e849c45d0174"
      },
      "cell_type": "code",
      "source": [
        "import numpy as np\n",
        "import matplotlib.pylab as plt\n",
        "\n",
        "x = np.linspace(-5, 5, 100)\n",
        "y = np.abs(x * x - 10)\n",
        "plt.plot(x, y, 'r')\n",
        "plt.plot(1, abs(1 * 1 - 10),'bo') # 第一个点\n",
        "plt.plot(1.2, abs(1.2 * 1.2 - 10),'yo')  # 第二个点\n",
        "plt.plot(math.sqrt(10), 0, 'go') # 目标值"
      ],
      "execution_count": 20,
      "outputs": [
        {
          "output_type": "execute_result",
          "data": {
            "text/plain": [
              "[<matplotlib.lines.Line2D at 0x7f92b1a52c50>]"
            ]
          },
          "metadata": {
            "tags": []
          },
          "execution_count": 20
        },
        {
          "output_type": "display_data",
          "data": {
            "image/png": "[encoded data removed]",
            "text/plain": [
              "<matplotlib.figure.Figure at 0x7f92b1a8d208>"
            ]
          },
          "metadata": {
            "tags": []
          }
        }
      ]
    },
    {
      "metadata": {
        "id": "UZlwTc6rYk7B",
        "colab_type": "text"
      },
      "cell_type": "markdown",
      "source": [
        "从上面的计算loss的函数曲线上就可以非常看清楚这个梯度下降算法的效果了\n",
        "\n",
        "而且可以看到 loss 最小的点其实是两个。取决于初始的位置，我们可能收敛到的结果是右边的最小值，或者左边那个最小值。\n",
        "\n",
        "重复多次前面的更新 x 的过程。我们可以得到近似的 x 值，收敛 loss 为近似到 0"
      ]
    },
    {
      "metadata": {
        "id": "-rPLUt0fv609",
        "colab_type": "code",
        "colab": {
          "base_uri": "https://localhost:8080/",
          "height": 225
        },
        "outputId": "c3d6f239-9f54-4aa1-ae51-156e6c3eed4d"
      },
      "cell_type": "code",
      "source": [
        "import torch\n",
        "\n",
        "x = torch.Tensor([1.0])\n",
        "x.requires_grad_(True)\n",
        "target = torch.Tensor([10.0])\n",
        "learning_rate = 0.01\n",
        "\n",
        "for epoch in range(101):\n",
        "  y = x * x\n",
        "  loss = torch.abs(target - y)\n",
        "  if epoch % 10 == 0:\n",
        "    print(x, y, loss)\n",
        "  loss.backward()\n",
        "  with torch.no_grad():\n",
        "    x -= learning_rate * x.grad\n",
        "    x.grad.zero_()"
      ],
      "execution_count": 29,
      "outputs": [
        {
          "output_type": "stream",
          "text": [
            "tensor([ 1.]) tensor([ 1.]) tensor([ 9.])\n",
            "tensor([ 1.2190]) tensor([ 1.4859]) tensor([ 8.5141])\n",
            "tensor([ 1.4859]) tensor([ 2.2080]) tensor([ 7.7920])\n",
            "tensor([ 1.8114]) tensor([ 3.2810]) tensor([ 6.7190])\n",
            "tensor([ 2.2080]) tensor([ 4.8754]) tensor([ 5.1246])\n",
            "tensor([ 2.6916]) tensor([ 7.2446]) tensor([ 2.7554])\n",
            "tensor([ 3.1524]) tensor([ 9.9374]) tensor(1.00000e-02 *\n",
            "       [ 6.2606])\n",
            "tensor([ 3.1461]) tensor([ 9.8977]) tensor([ 0.1023])\n",
            "tensor([ 3.1398]) tensor([ 9.8582]) tensor([ 0.1418])\n",
            "tensor([ 3.1335]) tensor([ 9.8188]) tensor([ 0.1812])\n",
            "tensor([ 3.1272]) tensor([ 9.7796]) tensor([ 0.2204])\n"
          ],
          "name": "stdout"
        }
      ]
    },
    {
      "metadata": {
        "id": "f9JsMAYpsL1d",
        "colab_type": "text"
      },
      "cell_type": "markdown",
      "source": [
        "我们可以看到loss不断变小。然后在0的附近徘徊\n",
        "\n",
        "下面我们可以用不断更新的函数曲线图来动画展示这个过程"
      ]
    },
    {
      "metadata": {
        "id": "PvTs33eqxaYM",
        "colab_type": "code",
        "colab": {
          "base_uri": "https://localhost:8080/",
          "height": 365
        },
        "outputId": "6f021eba-8efe-4a05-d809-2952714ed2cb"
      },
      "cell_type": "code",
      "source": [
        "import matplotlib.pyplot as plt\n",
        "import numpy as np\n",
        "import time\n",
        "import torch\n",
        "from IPython.display import display, clear_output\n",
        "\n",
        "def plot_graph(xi):\n",
        "  clear_output(wait=True) # 从 notebook 的 output 区域清除前一个图\n",
        "  plt.gcf().clear() # 从 plt 的画布上清除之前的点\n",
        "  x = np.linspace(1, 5, 100)\n",
        "  y = np.abs(x * x - 10)\n",
        "  plt.plot(x, y, 'r')\n",
        "  plt.plot(xi, abs(xi * xi - 10),'bo') # 当前点\n",
        "  plt.plot(math.sqrt(10), 0, 'go') # 目标值\n",
        "  display(plt.gcf()) # 立即输出到 notebook 的 output 区域\n",
        "    \n",
        "x = torch.Tensor([2.0])\n",
        "x.requires_grad_(True)\n",
        "target = torch.Tensor([10.0])\n",
        "learning_rate = 0.01\n",
        "\n",
        "for epoch in range(50):\n",
        "  time.sleep(0.1)\n",
        "  y = x * x\n",
        "  loss = torch.abs(target - y)\n",
        "  plot_graph(x.data[0])\n",
        "  loss.backward()\n",
        "  with torch.no_grad():\n",
        "    x -= learning_rate * x.grad\n",
        "    x.grad.zero_()\n",
        "    \n",
        "plt.gcf().clear()"
      ],
      "execution_count": 57,
      "outputs": [
        {
          "output_type": "display_data",
          "data": {
            "image/png": "[encoded data removed]",
            "text/plain": [
              "<matplotlib.figure.Figure at 0x7f92b18896a0>"
            ]
          },
          "metadata": {
            "tags": []
          }
        },
        {
          "output_type": "display_data",
          "data": {
            "text/plain": [
              "<matplotlib.figure.Figure at 0x7f92b18896a0>"
            ]
          },
          "metadata": {
            "tags": []
          }
        }
      ]
    },
    {
      "metadata": {
        "id": "tSGGDKrP0LBu",
        "colab_type": "code",
        "colab": {}
      },
      "cell_type": "code",
      "source": [
        ""
      ],
      "execution_count": 0,
      "outputs": []
    }
  ]
}