{
  "nbformat": 4,
  "nbformat_minor": 0,
  "metadata": {
    "colab": {
      "name": "1 auto gradient.ipynb",
      "version": "0.3.2",
      "provenance": [],
      "collapsed_sections": []
    },
    "kernelspec": {
      "name": "python3",
      "display_name": "Python 3"
    },
    "accelerator": "GPU"
  },
  "cells": [
    {
      "metadata": {
        "id": "kM7LpAjrB3aV",
        "colab_type": "text"
      },
      "cell_type": "markdown",
      "source": [
        "首先安装 pytorch"
      ]
    },
    {
      "metadata": {
        "id": "oXMrKn9Vezfh",
        "colab_type": "code",
        "colab": {
          "base_uri": "https://localhost:8080/",
          "height": 326
        },
        "outputId": "1006c8b8-d5c3-4300-fc06-317b1b381f88"
      },
      "cell_type": "code",
      "source": [
        "!pip install torch torchvision"
      ],
      "execution_count": 3,
      "outputs": [
        {
          "output_type": "stream",
          "text": [
            "Collecting torch\n",
            "\u001b[?25l  Downloading https://files.pythonhosted.org/packages/69/43/380514bd9663f1bf708abeb359b8b48d3fabb1c8e95bb3427a980a064c57/torch-0.4.0-cp36-cp36m-manylinux1_x86_64.whl (484.0MB)\n",
            "\u001b[K    100% |████████████████████████████████| 484.0MB 25kB/s \n",
            "tcmalloc: large alloc 1073750016 bytes == 0x5bea6000 @  0x7fb626a0a1c4 0x46d6a4 0x5fcbcc 0x4c494d 0x54f3c4 0x553aaf 0x54e4c8 0x54f4f6 0x553aaf 0x54efc1 0x54f24d 0x553aaf 0x54efc1 0x54f24d 0x553aaf 0x54efc1 0x54f24d 0x551ee0 0x54e4c8 0x54f4f6 0x553aaf 0x54efc1 0x54f24d 0x551ee0 0x54efc1 0x54f24d 0x551ee0 0x54e4c8 0x54f4f6 0x553aaf 0x54e4c8\n",
            "\u001b[?25hCollecting torchvision\n",
            "\u001b[?25l  Downloading https://files.pythonhosted.org/packages/ca/0d/f00b2885711e08bd71242ebe7b96561e6f6d01fdb4b9dcf4d37e2e13c5e1/torchvision-0.2.1-py2.py3-none-any.whl (54kB)\n",
            "\u001b[K    100% |████████████████████████████████| 61kB 6.6MB/s \n",
            "\u001b[?25hRequirement already satisfied: numpy in /usr/local/lib/python3.6/dist-packages (from torchvision) (1.14.5)\n",
            "Collecting pillow>=4.1.1 (from torchvision)\n",
            "\u001b[?25l  Downloading https://files.pythonhosted.org/packages/d1/24/f53ff6b61b3d728b90934bddb4f03f8ab584a7f49299bf3bde56e2952612/Pillow-5.2.0-cp36-cp36m-manylinux1_x86_64.whl (2.0MB)\n",
            "\u001b[K    100% |████████████████████████████████| 2.0MB 16.2MB/s \n",
            "\u001b[?25hRequirement already satisfied: six in /usr/local/lib/python3.6/dist-packages (from torchvision) (1.11.0)\n",
            "Installing collected packages: torch, pillow, torchvision\n",
            "  Found existing installation: Pillow 4.0.0\n",
            "    Uninstalling Pillow-4.0.0:\n",
            "      Successfully uninstalled Pillow-4.0.0\n",
            "Successfully installed pillow-5.2.0 torch-0.4.0 torchvision-0.2.1\n"
          ],
          "name": "stdout"
        }
      ]
    },
    {
      "metadata": {
        "id": "BeqK-oiJCB5I",
        "colab_type": "text"
      },
      "cell_type": "markdown",
      "source": [
        "pytorch 首先是 tensor （n维数组）的计算库"
      ]
    },
    {
      "metadata": {
        "id": "o_AiyAk3CKM3",
        "colab_type": "code",
        "colab": {
          "base_uri": "https://localhost:8080/",
          "height": 34
        },
        "outputId": "81af172b-5250-4cd6-fe17-d957202ff029"
      },
      "cell_type": "code",
      "source": [
        "import torch\n",
        "x = torch.Tensor([1.0, 2.0, 3.0]) # vector (1d)\n",
        "y = x ** x\n",
        "y"
      ],
      "execution_count": 75,
      "outputs": [
        {
          "output_type": "execute_result",
          "data": {
            "text/plain": [
              "tensor([  1.,   4.,  27.])"
            ]
          },
          "metadata": {
            "tags": []
          },
          "execution_count": 75
        }
      ]
    },
    {
      "metadata": {
        "id": "GUT6pEYJCcNN",
        "colab_type": "code",
        "colab": {
          "base_uri": "https://localhost:8080/",
          "height": 51
        },
        "outputId": "e531003d-4f77-439d-9a34-5e96207e5be4"
      },
      "cell_type": "code",
      "source": [
        "import torch\n",
        "x = torch.Tensor([\n",
        "    [1.0, 2.0, 3.0], \n",
        "    [1.0, 2.0, 3.0]\n",
        "]) # matrix (2d)\n",
        "y = x ** x\n",
        "y"
      ],
      "execution_count": 77,
      "outputs": [
        {
          "output_type": "execute_result",
          "data": {
            "text/plain": [
              "tensor([[  1.,   4.,  27.],\n",
              "        [  1.,   4.,  27.]])"
            ]
          },
          "metadata": {
            "tags": []
          },
          "execution_count": 77
        }
      ]
    },
    {
      "metadata": {
        "id": "HMXP5VaRCqBy",
        "colab_type": "code",
        "colab": {
          "base_uri": "https://localhost:8080/",
          "height": 136
        },
        "outputId": "05f2e384-48f4-4377-d723-5bb00dedc4d1"
      },
      "cell_type": "code",
      "source": [
        "import torch\n",
        "x = torch.Tensor([\n",
        "    [[1.0], [2.0], [3.0]], \n",
        "    [[1.0], [2.0], [3.0]]\n",
        "]) # tensor (more than 2d)\n",
        "y = x ** x\n",
        "y"
      ],
      "execution_count": 79,
      "outputs": [
        {
          "output_type": "execute_result",
          "data": {
            "text/plain": [
              "tensor([[[  1.],\n",
              "         [  4.],\n",
              "         [ 27.]],\n",
              "\n",
              "        [[  1.],\n",
              "         [  4.],\n",
              "         [ 27.]]])"
            ]
          },
          "metadata": {
            "tags": []
          },
          "execution_count": 79
        }
      ]
    },
    {
      "metadata": {
        "id": "u19xRnPfDTZv",
        "colab_type": "text"
      },
      "cell_type": "markdown",
      "source": [
        "pytorch 除了可以用来做 tensor 的运算之外，还可以对计算过程进行自动求导数"
      ]
    },
    {
      "metadata": {
        "id": "S7bX-SC4DbdW",
        "colab_type": "code",
        "colab": {
          "base_uri": "https://localhost:8080/",
          "height": 398
        },
        "outputId": "d76de198-4d03-4f5a-92fa-3b927227fa7a"
      },
      "cell_type": "code",
      "source": [
        "import torch\n",
        "import matplotlib.pylab as plt\n",
        "\n",
        "x = torch.Tensor([-2.0, -1.0, 0.0, 1.0, 2.0, 3.0, 4.0, 5.0, 6.0, 7.0, 8.0, 9.0])\n",
        "x.requires_grad_(True)\n",
        "y = x * x\n",
        "y.backward(torch.ones(len(x)))\n",
        "print(x.grad)\n",
        "plt.plot(x.detach().numpy(), y.detach().numpy(), 'r')"
      ],
      "execution_count": 15,
      "outputs": [
        {
          "output_type": "stream",
          "text": [
            "tensor([ -4.,  -2.,   0.,   2.,   4.,   6.,   8.,  10.,  12.,  14.,\n",
            "         16.,  18.])\n"
          ],
          "name": "stdout"
        },
        {
          "output_type": "execute_result",
          "data": {
            "text/plain": [
              "[<matplotlib.lines.Line2D at 0x7fee6bdf8be0>]"
            ]
          },
          "metadata": {
            "tags": []
          },
          "execution_count": 15
        },
        {
          "output_type": "display_data",
          "data": {
            "image/png": "[encoded data removed]",
            "text/plain": [
              "<matplotlib.figure.Figure at 0x7fee6be1bc88>"
            ]
          },
          "metadata": {
            "tags": []
          }
        }
      ]
    },
    {
      "metadata": {
        "id": "MrE6sWbvvd15",
        "colab_type": "code",
        "colab": {
          "base_uri": "https://localhost:8080/",
          "height": 17
        },
        "outputId": "14a4be9c-4cc0-4035-ef4a-8fcbeadd759e"
      },
      "cell_type": "code",
      "source": [
        "import matplotlib.pylab as plt\n",
        "from mpl_toolkits.mplot3d.axes3d import Axes3D\n",
        "import torch"
      ],
      "execution_count": 51,
      "outputs": []
    },
    {
      "metadata": {
        "id": "-rPLUt0fv609",
        "colab_type": "code",
        "colab": {
          "base_uri": "https://localhost:8080/",
          "height": 34
        },
        "outputId": "421d08b3-4cc4-4ce8-ffd6-de9b7e17c488"
      },
      "cell_type": "code",
      "source": [
        "x = torch.Tensor([1., 2.])\n",
        "x.requires_grad_(True)"
      ],
      "execution_count": 44,
      "outputs": [
        {
          "output_type": "execute_result",
          "data": {
            "text/plain": [
              "tensor([ 1.,  2.])"
            ]
          },
          "metadata": {
            "tags": []
          },
          "execution_count": 44
        }
      ]
    },
    {
      "metadata": {
        "id": "wMXMmE_WwT6i",
        "colab_type": "code",
        "colab": {
          "base_uri": "https://localhost:8080/",
          "height": 34
        },
        "outputId": "63567bf4-737d-47be-e944-6d072e66f384"
      },
      "cell_type": "code",
      "source": [
        "y = torch.Tensor([2, 3])\n",
        "y.requires_grad_(True)\n",
        "y"
      ],
      "execution_count": 43,
      "outputs": [
        {
          "output_type": "execute_result",
          "data": {
            "text/plain": [
              "tensor([ 2.,  3.])"
            ]
          },
          "metadata": {
            "tags": []
          },
          "execution_count": 43
        }
      ]
    },
    {
      "metadata": {
        "id": "NW0a8XWmwXi1",
        "colab_type": "code",
        "colab": {
          "base_uri": "https://localhost:8080/",
          "height": 17
        },
        "outputId": "4537b315-e238-4594-e99a-00fcc8f9d7b0"
      },
      "cell_type": "code",
      "source": [
        "z = x * y\n",
        "z.backward(torch.Tensor([1, 1]))"
      ],
      "execution_count": 45,
      "outputs": []
    },
    {
      "metadata": {
        "id": "1vKAI4nRx_f2",
        "colab_type": "code",
        "colab": {
          "base_uri": "https://localhost:8080/",
          "height": 17
        },
        "outputId": "8b67a18b-bb27-4dcd-9944-e7ba7ce96615"
      },
      "cell_type": "code",
      "source": [
        "y.backward(torch.Tensor([1,2]))"
      ],
      "execution_count": 34,
      "outputs": []
    },
    {
      "metadata": {
        "id": "r79wfPZxyF8t",
        "colab_type": "code",
        "colab": {
          "base_uri": "https://localhost:8080/",
          "height": 51
        },
        "outputId": "cefba4e7-56cd-4c69-e3b9-09e29f8c15c0"
      },
      "cell_type": "code",
      "source": [
        "print(x.grad)\n",
        "print(y.grad)"
      ],
      "execution_count": 47,
      "outputs": [
        {
          "output_type": "stream",
          "text": [
            "tensor([ 2.,  3.])\n",
            "tensor([ 1.,  2.])\n"
          ],
          "name": "stdout"
        }
      ]
    },
    {
      "metadata": {
        "id": "cZrlnuVqAE2_",
        "colab_type": "code",
        "colab": {
          "base_uri": "https://localhost:8080/",
          "height": 364
        },
        "outputId": "873b700b-16c2-401a-862b-63074215548f"
      },
      "cell_type": "code",
      "source": [
        "import numpy as np\n",
        "\n",
        "x = np.linspace(0, 5, 30)\n",
        "y = x * x\n",
        "plt.plot(x, y, 'r')"
      ],
      "execution_count": 72,
      "outputs": [
        {
          "output_type": "execute_result",
          "data": {
            "text/plain": [
              "[<matplotlib.lines.Line2D at 0x7f81170a7320>]"
            ]
          },
          "metadata": {
            "tags": []
          },
          "execution_count": 72
        },
        {
          "output_type": "display_data",
          "data": {
            "image/png": "[encoded data removed]",
            "text/plain": [
              "<matplotlib.figure.Figure at 0x7f81199baa20>"
            ]
          },
          "metadata": {
            "tags": []
          }
        }
      ]
    },
    {
      "metadata": {
        "id": "uE07Pr6I4SmU",
        "colab_type": "code",
        "colab": {
          "base_uri": "https://localhost:8080/",
          "height": 357
        },
        "outputId": "7c8ece06-591d-4651-8949-1ee9cac42f35"
      },
      "cell_type": "code",
      "source": [
        "import numpy as np\n",
        "from matplotlib import cm\n",
        "\n",
        "X=np.array([1,2])\n",
        "Y=np.array([2,4])\n",
        "Z=np.array([[0,0],[4,4],[5,5]])\n",
        "fig = plt.figure(figsize=(14,6))\n",
        "\n",
        "# `ax` is a 3D-aware axis instance, because of the projection='3d' keyword argument to add_subplot\n",
        "ax = fig.add_subplot(1, 2, 1, projection='3d')\n",
        "\n",
        "p = ax.plot_surface(X, Y, Z, rstride=4, cstride=4, linewidth=0)\n",
        "\n",
        "# # surface_plot with color grading and color bar\n",
        "# ax = fig.add_subplot(1, 2, 2, projection='3d')\n",
        "# p = ax.plot_surface(X, Y, Z, rstride=1, cstride=1, cmap=cm.coolwarm, linewidth=0, antialiased=False)\n",
        "# cb = fig.colorbar(p, shrink=0.5)"
      ],
      "execution_count": 61,
      "outputs": [
        {
          "output_type": "display_data",
          "data": {
            "image/png": "[encoded data removed]",
            "text/plain": [
              "<matplotlib.figure.Figure at 0x7f81153e0eb8>"
            ]
          },
          "metadata": {
            "tags": []
          }
        }
      ]
    }
  ]
}